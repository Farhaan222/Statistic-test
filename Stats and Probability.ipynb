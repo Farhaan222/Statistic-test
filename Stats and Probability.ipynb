{
 "cells": [
  {
   "cell_type": "markdown",
   "id": "0e462e29",
   "metadata": {},
   "source": [
    "<h1>I.</h1>\n"
   ]
  },
  {
   "cell_type": "markdown",
   "id": "8d36e7f8",
   "metadata": {},
   "source": [
    "There are 13 diamond cards in a deck of 52 cards \n",
    "\n",
    "Let P(A) be the probability of getting a diamond card in the first drawn.\n",
    "\n",
    "    P(A) = 13/52 = 0.25\n",
    "    \n",
    "Let P(B) be the probability of getting a heart card in the second drawn.\n",
    "\n",
    "    P(B) = 13/51  =0.254\n",
    "    \n",
    "Let P(c) be the probability of getting a spade card in the third drawn.\n",
    "\n",
    "    P(C)=13/50=0.26"
   ]
  },
  {
   "cell_type": "markdown",
   "id": "e90ad019",
   "metadata": {},
   "source": [
    "<h1>II.<h1>"
   ]
  },
  {
   "cell_type": "markdown",
   "id": "bc18db15",
   "metadata": {},
   "source": [
    "p(ac) = probability of likes action movies = 42/100<br>\n",
    "p(co) = probability of likes comedy movies = 54/100<br>\n",
    "p(dr) = probability of likes drama movies = 36/100<br>\n",
    "p(ho) = probability of likes horror movies = 12/100<br>\n",
    "p(A) = probability of either action or drama <br>\n",
    "p(B) = probability of either comedy or horror<br>"
   ]
  },
  {
   "cell_type": "code",
   "execution_count": 2,
   "id": "19fc6834",
   "metadata": {},
   "outputs": [
    {
     "name": "stdout",
     "output_type": "stream",
     "text": [
      "probability of either action or drama: 0.78\n",
      "probability of either comedy or horror: 0.66\n"
     ]
    }
   ],
   "source": [
    "pac = 42/100\n",
    "pco = 54/100\n",
    "pdr = 36/100\n",
    "pho = 12/100\n",
    "print( \"probability of either action or drama:\",pac + pdr) \n",
    "print(\"probability of either comedy or horror:\",pco + pho)"
   ]
  },
  {
   "cell_type": "markdown",
   "id": "b6bd7388",
   "metadata": {},
   "source": [
    "<h1>III.<h1>"
   ]
  },
  {
   "cell_type": "markdown",
   "id": "421e606f",
   "metadata": {},
   "source": [
    "Bag A = 3 red, 5 black balls \n",
    "\n",
    "Bag B = 4 white, 7 black balls\n",
    "\n",
    "p(A) = p(B) = 1/2\n",
    "\n",
    "p(B/A) = probability of black ball from bag A = 5/8\n",
    "\n",
    "p(B/B) = 7/11\n",
    "\n",
    "P(B/B) = probability of black ball from bag b\n",
    "\n",
    "         = (p(B)*p(B/B)) / (p(A)*p(B/A)+p(B)*p(B/B))\n",
    "         = (1/2 * 7/11) / (1/2 * 5/8 + 1/2 * 5/8)\n",
    "         = (7/22) / (5/8 + 5/16)\n",
    "         = 28/55\n",
    "         = 0.509"
   ]
  },
  {
   "cell_type": "markdown",
   "id": "6abf25c8",
   "metadata": {},
   "source": [
    "<H1>IV.<h1> "
   ]
  },
  {
   "cell_type": "markdown",
   "id": "9b706d10",
   "metadata": {},
   "source": [
    "By Poisson distribution\n",
    "a. Receiving 10 application in 1 minute\n",
    "\n",
    "    = 450/60\n",
    "    = 15/2 , x = 10\n",
    "    \n",
    "                  e*(-15/2) . (15/2)*10\n",
    "     P (X = x) =  -----------------------  = 0.0858\n",
    "                           10!\n",
    "b.Recieving atleast 17 application in 2 minutes\n",
    "\n",
    "           e*(-15/2) . (15/2)*17\n",
    "P(X = x) = --------------------------  = 0.6321\n",
    "                     17!"
   ]
  },
  {
   "cell_type": "markdown",
   "id": "bf732cea",
   "metadata": {},
   "source": [
    "<H1>V.</H1>"
   ]
  },
  {
   "cell_type": "code",
   "execution_count": null,
   "id": "22cdf620",
   "metadata": {},
   "outputs": [],
   "source": []
  },
  {
   "cell_type": "markdown",
   "id": "1433b36c",
   "metadata": {},
   "source": [
    "<H1>VI.</H1>"
   ]
  },
  {
   "cell_type": "markdown",
   "id": "64bd89b0",
   "metadata": {},
   "source": [
    "z=(x-μ)/σ<br>\n",
    "0.675=(x-350870)/12405<br>\n",
    "x=350870+(0.675*12405)<br>\n",
    "x=359237.045<br>\n",
    "75th percentile=359237.045<br>"
   ]
  },
  {
   "cell_type": "markdown",
   "id": "0c586f5d",
   "metadata": {},
   "source": [
    "<h1>VII.</h1>"
   ]
  },
  {
   "cell_type": "code",
   "execution_count": 11,
   "id": "881d250f",
   "metadata": {},
   "outputs": [
    {
     "name": "stdout",
     "output_type": "stream",
     "text": [
      "F-STATISTIC is  :0.992124\n"
     ]
    }
   ],
   "source": [
    "UC=[44,21,36,34,77,32,29,39,92,67,45,37]\n",
    "MV=[47,81,41,79,38,20,33,83,41,40,69,36]\n",
    "import numpy as np\n",
    "x = np.array(UC)\n",
    "y = np.array(MV)\n",
    "f = np.var(x, ddof=1)/np.var(y, ddof=1)\n",
    "print(\"F-STATISTIC is  :%.6f\"%(f))"
   ]
  },
  {
   "cell_type": "markdown",
   "id": "b7fec770",
   "metadata": {},
   "source": [
    "<h1>VIII.</h1>"
   ]
  },
  {
   "cell_type": "code",
   "execution_count": null,
   "id": "0e20a1e5",
   "metadata": {},
   "outputs": [],
   "source": []
  },
  {
   "cell_type": "markdown",
   "id": "2d9881ad",
   "metadata": {},
   "source": [
    "<h1>IX.</h1>"
   ]
  },
  {
   "cell_type": "code",
   "execution_count": 8,
   "id": "0a4dabbc",
   "metadata": {},
   "outputs": [
    {
     "name": "stdout",
     "output_type": "stream",
     "text": [
      "0.04018\n"
     ]
    }
   ],
   "source": [
    "from scipy.stats import poisson\n",
    "probability=poisson.pmf(k=80,mu=76)\n",
    "print(\"%.5f\"%(probability))"
   ]
  }
 ],
 "metadata": {
  "kernelspec": {
   "display_name": "Python 3 (ipykernel)",
   "language": "python",
   "name": "python3"
  },
  "language_info": {
   "codemirror_mode": {
    "name": "ipython",
    "version": 3
   },
   "file_extension": ".py",
   "mimetype": "text/x-python",
   "name": "python",
   "nbconvert_exporter": "python",
   "pygments_lexer": "ipython3",
   "version": "3.9.7"
  }
 },
 "nbformat": 4,
 "nbformat_minor": 5
}
